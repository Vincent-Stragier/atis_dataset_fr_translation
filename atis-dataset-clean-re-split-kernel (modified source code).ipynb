{
 "cells": [
  {
   "cell_type": "code",
   "execution_count": 1,
   "metadata": {
    "_uuid": "da03ab43778e6d36ac1d4680c550e1e881ddf7b5",
    "colab": {},
    "colab_type": "code",
    "id": "H1ainSCfiwfT"
   },
   "outputs": [],
   "source": [
    "from matplotlib import pyplot as plt\n",
    "import os\n",
    "import itertools\n",
    "\n",
    "from collections import defaultdict, Counter\n",
    "from random import Random\n",
    "from functools import partial\n",
    "\n",
    "from urllib import request, parse\n",
    "\n",
    "import numpy as np\n",
    "import pandas as pd\n",
    "\n",
    "%matplotlib inline\n"
   ]
  },
  {
   "cell_type": "markdown",
   "metadata": {
    "_uuid": "c23f5df1bd93c315da2d411067e76c98edf867fa",
    "colab_type": "text",
    "id": "3S7mwHaejAfh"
   },
   "source": [
    "# The ATIS Dataset\n",
    "\n",
    "The ATIS DataSet is widely used [TODO add the references] benchmark dataset for intent classification and slot filling models used in dialog systems.\n",
    "\n",
    "This notebook will:\n",
    "  \n",
    "  1. fetch the ATIS DataSet from https://github.com/yvchen/JointSLU \n",
    "  2. Explore the the slot and intent label distribution accross the the train/dev/test dataset split\n",
    "  3. Provide an alternative (balanced) datasplit\n",
    "  \n",
    "\n",
    "\n",
    "\n",
    "\n",
    "\n"
   ]
  },
  {
   "cell_type": "markdown",
   "metadata": {
    "_uuid": "1eb3c73ab160d81ab09b1c2cc5647cbaec3f80f7",
    "colab_type": "text",
    "id": "FV0et9vIk-mJ"
   },
   "source": [
    "## Fetching the dataset\n",
    "The ATIS dataset from [yvchen/JointSLU](https://github.com/yvchen/JointSLU) is provided as train, dev and test split in text format, one sample per line with whitespace separated tokens and IOB tags, followeb by the intent label, i.e.:\n",
    "\n",
    "    BOS from denver to baltimore EOS O O B-fromloc.city_name O B-toloc.city_name atis_flight\n",
    "    BOS ground transportation in denver EOS  O O O O B-city_name atis_ground_service"
   ]
  },
  {
   "cell_type": "code",
   "execution_count": 2,
   "metadata": {
    "_uuid": "900a9d9cee6c4d197bda8b0a5de53adbf017d5f7",
    "colab": {
     "base_uri": "https://localhost:8080/",
     "height": 68
    },
    "colab_type": "code",
    "id": "p9VO5qSapAcz",
    "outputId": "9fbd6942-c2ff-4c67-c585-8e0e46b5879c"
   },
   "outputs": [
    {
     "name": "stdout",
     "output_type": "stream",
     "text": [
      "           atis.test:  893\n",
      "          atis-2.dev:  500\n",
      "        atis-2.train: 4478\n"
     ]
    }
   ],
   "source": [
    "ATIS_BASE_URL = \"https://raw.githubusercontent.com/yvchen/JointSLU/master/data/\"\n",
    "\n",
    "\n",
    "def load_atis_dataset(filenames: str | list[str] | tuple[str], base_url=ATIS_BASE_URL) -> dict:\n",
    "    datasets = {}\n",
    "\n",
    "    if isinstance(filenames, str):\n",
    "        fname = [filenames]\n",
    "\n",
    "    for name in filenames:\n",
    "        dataset_content = []\n",
    "        dataset_name = '.'.join(name.split('.')[:2])\n",
    "\n",
    "        with request.urlopen(parse.urljoin(base_url, name)) as download:\n",
    "\n",
    "            for line in download.readlines():\n",
    "                # Decode line\n",
    "                line = line.decode(download.info().get_content_charset())\n",
    "\n",
    "                # Extract tokens, etc. for each line of the .iob file\n",
    "                tokens, si = map(str.split, line.split(\"\\t\"))\n",
    "                slots, intent = si[:-1] + ['O'], si[-1]\n",
    "\n",
    "                # Break everything if the is any inconsistency in the dataset\n",
    "                assert len(tokens) == len(slots)\n",
    "\n",
    "                # Add the data to dataset representation\n",
    "                dataset_content.append((tokens, slots, intent))\n",
    "\n",
    "        # Add each dataset to the dictionary\n",
    "        datasets.update({dataset_name: dataset_content})\n",
    "        # print(f'{ds_name:>20s}: {len(dataset_content):4d}')\n",
    "    return datasets\n",
    "\n",
    "\n",
    "files_to_download = [\n",
    "    f'{name}.w-intent.iob' for name in ('atis.test', 'atis-2.dev', 'atis-2.train')]\n",
    "atis = load_atis_dataset(files_to_download)\n",
    "\n",
    "for key, value in atis.items():\n",
    "    print(f'{key:>20s}: {len(value):4d}')\n"
   ]
  },
  {
   "cell_type": "markdown",
   "metadata": {
    "_uuid": "aafc5bc906bd2f8927e48ac65a87e80075185acb",
    "colab_type": "text",
    "id": "-Bvy53Yb84qY"
   },
   "source": [
    "## Exploring the data splits"
   ]
  },
  {
   "cell_type": "code",
   "execution_count": 3,
   "metadata": {
    "_uuid": "a84c89c5df205a1aaa2402db4196dca0a308603d",
    "colab": {
     "base_uri": "https://localhost:8080/",
     "height": 68
    },
    "colab_type": "code",
    "id": "7AKmhfc2t4kz",
    "outputId": "cb107424-5e50-4a7d-a962-704dfe40a0c0"
   },
   "outputs": [
    {
     "name": "stdout",
     "output_type": "stream",
     "text": [
      " input: BOS i would like to find a flight from charlotte to las vegas that makes a stop in st. louis EOS\n",
      " slots: O O O O O O O O O B-fromloc.city_name O B-toloc.city_name I-toloc.city_name O O O O O B-stoploc.city_name I-stoploc.city_name O\n",
      "intent: atis_flight\n"
     ]
    }
   ],
   "source": [
    "# a single entry looks like this\n",
    "toks, slots, intent = atis['atis.test'][0]\n",
    "print(' input:', ' '.join(toks))\n",
    "print(' slots:', ' '.join(slots))\n",
    "print('intent:',          intent)\n"
   ]
  },
  {
   "cell_type": "markdown",
   "metadata": {
    "_uuid": "d2347cc8bd3498f911402af4d3019d1e18ecd3bc",
    "colab_type": "text",
    "id": "7pVVfkEV9QIi"
   },
   "source": [
    "Lets check if all labels are present in both the train and test (or dev) data splits."
   ]
  },
  {
   "cell_type": "code",
   "execution_count": 4,
   "metadata": {
    "_uuid": "4fb48ac23b8f1e45d01668d65d0923a0da688edf",
    "colab": {
     "base_uri": "https://localhost:8080/",
     "height": 294
    },
    "colab_type": "code",
    "id": "LANTfKwvwLMs",
    "outputId": "ec758c2a-dc21-4732-bad8-1cfe17e6ea20"
   },
   "outputs": [
    {
     "name": "stdout",
     "output_type": "stream",
     "text": [
      "   sample count:  5871 splitted into:\n",
      "          train:  4478 (0.763)\n",
      "            dev:   500 (0.085)\n",
      "           test:   893 (0.152)\n",
      "duplicate count:   397\n",
      "   intent count: 26\n",
      "     slot count: 127\n",
      "    token count: 952\n",
      "missing data for slot/intent labels:\n",
      "  no train data for  5 intents: {'atis_flight#atis_airline': 1, 'atis_airfare#atis_flight': 1, 'atis_flight_no#atis_airline': 1, 'atis_day_name': 2, 'atis_airfare#atis_flight_time': 1}\n",
      "  no train data for  7   slots: {'I-state_name': 1, 'B-flight': 1, 'I-flight_number': 1, 'B-stoploc.airport_code': 1, 'B-compartment': 1, 'B-booking_class': 1, 'I-return_date.day_number': 1}\n",
      "  no   dev data for  6 intents: {'atis_ground_service#atis_ground_fare': 1, 'atis_cheapest': 1, 'atis_meal': 12, 'atis_flight_no': 20, 'atis_aircraft#atis_flight#atis_flight_no': 1, 'atis_airline#atis_flight_no': 2}\n",
      "  no   dev data for 25   slots: {'I-meal_code': 4, 'I-depart_time.time_relative': 3, 'I-arrive_time.time_relative': 6, 'B-return_date.day_name': 3, 'I-arrive_time.period_of_day': 3, 'I-return_date.today_relative': 2, 'I-depart_date.today_relative': 12, 'B-return_time.period_mod': 2, 'B-stoploc.state_code': 5, 'I-meal_description': 1, 'I-economy': 10, 'B-stoploc.airport_name': 1, 'I-today_relative': 3, 'B-return_date.today_relative': 1, 'I-return_date.date_relative': 5, 'B-today_relative': 2, 'B-time_relative': 1, 'I-arrive_time.start_time': 9, 'B-time': 2, 'I-arrive_date.day_number': 6, 'I-time': 1, 'B-toloc.country_name': 4, 'B-meal_code': 7, 'B-day_number': 2, 'B-month_name': 2}\n",
      "  no  test data for  5 intents: {'atis_ground_service#atis_ground_fare': 1, 'atis_cheapest': 1, 'atis_restriction': 6, 'atis_aircraft#atis_flight#atis_flight_no': 1, 'atis_airline#atis_flight_no': 2}\n",
      "  no  test data for 25   slots: {'I-meal_code': 4, 'I-flight_stop': 17, 'I-arrive_time.period_of_day': 3, 'I-return_date.today_relative': 2, 'B-arrive_time.period_mod': 4, 'I-depart_date.today_relative': 12, 'B-return_time.period_mod': 2, 'B-stoploc.state_code': 5, 'B-return_date.day_number': 4, 'I-economy': 10, 'I-meal_description': 1, 'B-stoploc.airport_name': 1, 'B-return_time.period_of_day': 3, 'I-today_relative': 3, 'B-return_date.today_relative': 1, 'B-today_relative': 2, 'B-time_relative': 1, 'I-fare_basis_code': 2, 'B-time': 2, 'I-arrive_date.day_number': 6, 'I-time': 1, 'B-arrive_date.today_relative': 2, 'B-return_date.month_name': 4, 'B-day_number': 2, 'B-month_name': 2}\n"
     ]
    }
   ],
   "source": [
    "test, dev, train = map(atis.get, ['atis.test', 'atis-2.dev', 'atis-2.train'])\n",
    "\n",
    "\n",
    "def subdict(counter: Counter, keys: set) -> dict:\n",
    "    return {key: counter[key] for key in keys}\n",
    "\n",
    "\n",
    "def atis_label_counts(datasets: list | tuple | set) -> tuple:\n",
    "    tokens, slots, intents = zip(*datasets)\n",
    "\n",
    "    return (Counter(list(itertools.chain.from_iterable(tokens))),  # token_labs\n",
    "            Counter(list(itertools.chain.from_iterable(slots))),  # slot_labs\n",
    "            Counter(intents))  # intent_labs\n",
    "\n",
    "\n",
    "def check_atis_split(train, dev, test) -> None:\n",
    "    (_, ts, ti), (_, ds, di), (_, es, ei) = map(atis_label_counts,\n",
    "                                                [train, dev, test])\n",
    "\n",
    "    lens = list(map(len, (train, dev, test)))\n",
    "    sample_count = np.sum(lens)\n",
    "\n",
    "    print(f\"   sample count: {sample_count:5d} splitted into:\")\n",
    "    for dslen, dsname in zip(lens, ['train', 'dev', 'test']):\n",
    "        print(f\"          {dsname:>5s}: {dslen:5d} ({dslen/sample_count:.3f})\")\n",
    "\n",
    "    unique_entries = {(tuple(toks), tuple(slots), intent)\n",
    "                      for toks, slots, intent in (train + dev + test)}\n",
    "\n",
    "    print(f\"duplicate count: {sample_count - len(unique_entries):5d}\")\n",
    "\n",
    "    # map slot/intent labels to usage frequency\n",
    "    token_labs, slot_labs, intent_labs = atis_label_counts(train + dev + test)\n",
    "    sfreqs, ifreqs = map(partial(partial, subdict), [slot_labs, intent_labs])\n",
    "    # print(sfreqs, ifreqs)\n",
    "\n",
    "    print(\"   intent count:\", len(intent_labs))\n",
    "    print(\"     slot count:\", len(slot_labs))\n",
    "    print(\"    token count:\", len(token_labs))\n",
    "\n",
    "    print(\"missing data for slot/intent labels:\")\n",
    "    ts, ti, ds, di, es, ei = map(lambda s: set(s.keys()), [\n",
    "                                 ts, ti, ds, di, es, ei])\n",
    "    for dsname, mints, mslots in [(\"train\",\n",
    "                                   ifreqs(di.union(ei).difference(ti)),\n",
    "                                   sfreqs(ds.union(es).difference(ts))),\n",
    "                                  (\"dev\",\n",
    "                                   ifreqs(ti.difference(di)),\n",
    "                                   sfreqs(ts.difference(ds))),\n",
    "                                  (\"test\",\n",
    "                                   ifreqs(ti.difference(ei)),\n",
    "                                   sfreqs(ts.difference(es)))]:\n",
    "        print(f\"  no {dsname:>5s} data for {len(mints):2d} intents: {mints}\")\n",
    "        print(f\"  no {dsname:>5s} data for {len(mslots):2d}   slots: {mslots}\")\n",
    "\n",
    "\n",
    "check_atis_split(train, dev, test)\n"
   ]
  },
  {
   "cell_type": "markdown",
   "metadata": {
    "_uuid": "fd7d781615c1f2d4088f5140fd2da05e0f97d137",
    "colab_type": "text",
    "id": "FYmDei989r_6"
   },
   "source": [
    "So from above, we see, there are 5 intent and 7 slot labels not present at all in the train dataset. And quite simillary up to 20% of the labels are not present in the dev or test dataset. There are also 397 duplicated entries.\n",
    "\n",
    "As a visualization:"
   ]
  },
  {
   "cell_type": "code",
   "execution_count": 5,
   "metadata": {
    "_uuid": "c7b2cb4b09092713fd49dd38a973b5314b3d953f",
    "colab": {
     "base_uri": "https://localhost:8080/",
     "height": 543
    },
    "colab_type": "code",
    "id": "VL2TrHUW_nii",
    "outputId": "6cf4da3b-828e-43c7-bac1-303a30fd67b0"
   },
   "outputs": [
    {
     "data": {
      "image/png": "[encoded data removed]",
      "text/plain": [
       "<Figure size 1296x288 with 1 Axes>"
      ]
     },
     "metadata": {
      "needs_background": "light"
     },
     "output_type": "display_data"
    },
    {
     "data": {
      "image/png": "[encoded data removed]",
      "text/plain": [
       "<Figure size 1296x288 with 1 Axes>"
      ]
     },
     "metadata": {
      "needs_background": "light"
     },
     "output_type": "display_data"
    }
   ],
   "source": [
    "def visualize_atis_split(train, dev, test) -> None:\n",
    "    (_, ts, ti), (_, ds, di), (_, es, ei) = map(atis_label_counts,\n",
    "                                                [train, dev, test])\n",
    "    _, alls, alli = atis_label_counts(train+dev+test)\n",
    "\n",
    "    tsc, dsc, esc, asc = (np.array([d[slot] for slot, _ in alls.most_common()])\n",
    "                          for d in [ts, ds, es, alls])\n",
    "    tic, dic, eic, aic = (np.array([d[intent] for intent, _ in alli.most_common()])\n",
    "                          for d in [ti, di, ei, alli])\n",
    "\n",
    "    plt.figure(figsize=(18, 4))\n",
    "    plt.title('intent label distribution')\n",
    "    plt.bar(x=np.arange(len(tic)), height=tic /\n",
    "            aic, label='train')\n",
    "    plt.bar(x=np.arange(len(dic)), height=dic /\n",
    "            aic, bottom=tic/aic, label='dev')\n",
    "    plt.bar(x=np.arange(len(eic)), height=eic/aic,\n",
    "            bottom=(tic+dic)/aic, label='test')\n",
    "    plt.legend(loc='center left', fancybox=True, framealpha=0.5)\n",
    "\n",
    "    plt.figure(figsize=(18, 4))\n",
    "    plt.title('slot labels distribution')\n",
    "    plt.bar(x=np.arange(len(tsc)), height=tsc /\n",
    "            asc, label='train')\n",
    "    plt.bar(x=np.arange(len(dsc)), height=dsc /\n",
    "            asc, bottom=tsc/asc, label='dev')\n",
    "    plt.bar(x=np.arange(len(esc)), height=esc/asc,\n",
    "            bottom=(tsc+dsc)/asc, label='test')\n",
    "    plt.legend(loc='center left', fancybox=True, framealpha=0.5)\n",
    "\n",
    "\n",
    "visualize_atis_split(train, dev, test)\n"
   ]
  },
  {
   "cell_type": "markdown",
   "metadata": {
    "_uuid": "3e21c762d1a7bfe33870a091162a1a3d68e56266",
    "colab_type": "text",
    "id": "QMLyL0rE-4yx"
   },
   "source": [
    "## (Re)Splitting the ATIS dataset"
   ]
  },
  {
   "cell_type": "markdown",
   "metadata": {
    "_uuid": "71e44da279ccd89759b5997b9a61898e17d736c2",
    "colab_type": "text",
    "id": "gpJm3WkQHCTU"
   },
   "source": [
    "Before we split, we should remove any duplicates and all samples containing labels occurring less than 3 times (we actually remove samples with labels occurring less than 4 times, after inspecting the output of `check_atis_split()` for a dataset cleaned with the \"less than 3 times\" label rule)."
   ]
  },
  {
   "cell_type": "code",
   "execution_count": 6,
   "metadata": {
    "_uuid": "5dcbabb7e279812e13c0a58ebf95e5b5acfc3b9a",
    "colab": {
     "base_uri": "https://localhost:8080/",
     "height": 68
    },
    "colab_type": "code",
    "id": "EdlVgktRHAxc",
    "outputId": "87aed546-7d1d-43e2-94c2-a7a123a822b6"
   },
   "outputs": [
    {
     "name": "stdout",
     "output_type": "stream",
     "text": [
      "original ATIS    data count: 5871\n",
      "   after duplicates removal: 5474\n",
      "       after label cleaning: 5432\n"
     ]
    }
   ],
   "source": [
    "test, dev, train = map(atis.get, ['atis.test', 'atis-2.dev', 'atis-2.train'])\n",
    "atis_all = train + dev + test\n",
    "\n",
    "print(\"original ATIS    data count:\", len(atis_all))\n",
    "\n",
    "# keep unique entries only\n",
    "cleands = set([(tuple(toks), tuple(slots), intent)\n",
    "              for toks, slots, intent in atis_all])\n",
    "print(\"   after duplicates removal:\", len(cleands))\n",
    "\n",
    "# count label frequencies\n",
    "_, slot_labs, intent_labs = atis_label_counts(cleands)\n",
    "\n",
    "# filter labels occuring only once\n",
    "clean_slots = dict(filter(lambda t: t[1] > 3, slot_labs.most_common()))\n",
    "clean_intents = dict(filter(lambda t: t[1] > 3, intent_labs.most_common()))\n",
    "\n",
    "# remove the corresponding data samples\n",
    "cleands = filter(lambda t: set(t[1]).issubset(clean_slots), cleands)\n",
    "cleands = filter(lambda t: t[2] in clean_intents, cleands)\n",
    "\n",
    "cleands = list(filter(lambda t: set(t[1]).issubset(\n",
    "    slot_labs) and t[2] in intent_labs, cleands))\n",
    "print(\"       after label cleaning:\", len(cleands))\n",
    "\n",
    "# convert back from tuples to lists\n",
    "atis_clean = [(list(tokens), list(slots), intent)\n",
    "              for tokens, slots, intent in sorted(cleands)]\n"
   ]
  },
  {
   "cell_type": "markdown",
   "metadata": {
    "_uuid": "e66d794839bc22bb64362558ec9f70dec0d60cf1"
   },
   "source": [
    "Now let's split the dataset by starting with the most rare labels, and hope every split receive an example for each intent/solt label."
   ]
  },
  {
   "cell_type": "code",
   "execution_count": 7,
   "metadata": {
    "_uuid": "6ed36986a249a1ef8d8edeed0dd0c6332d99db2b",
    "colab": {},
    "colab_type": "code",
    "id": "piGIBy3p4DKV"
   },
   "outputs": [],
   "source": [
    "def split_atis(ads, split=[0.8, 0.1, 0.1], random_state=None):\n",
    "    \"\"\" Splits the ATIS dataset by starting with the least common labels.\"\"\"\n",
    "    split = np.array(split)\n",
    "    assert split.sum() == 1\n",
    "\n",
    "    random = None if random_state is None else Random(random_state)\n",
    "\n",
    "    res = [[] for _ in split]\n",
    "    used = set()             # used samples\n",
    "    s2e = defaultdict(set)   # slot to sample\n",
    "    i2e = defaultdict(set)   # intent to sample\n",
    "    for ndx, (_, slots, intent) in enumerate(ads):  # build label to sample maps\n",
    "        i2e[intent].add(ndx)\n",
    "        for slot in set(slots):\n",
    "            s2e[slot].add(ndx)\n",
    "\n",
    "    # sort according to usage\n",
    "    s2f = Counter({slot: len(ndxs)\n",
    "                  for slot, ndxs in s2e.items()}).most_common()\n",
    "    i2f = Counter({intent: len(ndxs)\n",
    "                  for intent, ndxs in i2e.items()}).most_common()\n",
    "\n",
    "    while True:\n",
    "        # select the least common intent or slot label\n",
    "        if len(i2f) < 1 and len(s2f) < 1:            # both empty\n",
    "            break\n",
    "        elif len(i2f) > 0 and len(s2f) > 0:          # both non empty\n",
    "            use_intent = i2f[-1][1] < s2f[-1][1]\n",
    "        else:\n",
    "            use_intent = len(i2f) > 0\n",
    "\n",
    "        # get the samples of least common label\n",
    "        if use_intent:\n",
    "            intent, _ = i2f.pop()\n",
    "            ndxs = i2e.pop(intent)\n",
    "        else:\n",
    "            slot, _ = s2f.pop()\n",
    "            ndxs = s2e.pop(slot)\n",
    "\n",
    "        # shuffle the samples of the selected label\n",
    "        ndxs = list(ndxs)\n",
    "        if random is not None:\n",
    "            random.shuffle(ndxs)\n",
    "\n",
    "        splits = [[] for _ in split]\n",
    "        # put each sample in a split maintaining the split ratios\n",
    "        for ndx in ndxs:\n",
    "            lens = np.array([len(sp) for sp in splits])\n",
    "            # fill the split with the highest frequency (reverse ratio) offset\n",
    "            sndx = np.argmax(1/(lens/(lens.sum()+1e-12)+1e-12) - 1/split)\n",
    "            if ndx not in used:\n",
    "                used.add(ndx)\n",
    "                splits[sndx].append(ndx)\n",
    "\n",
    "        # add the splitted label samples to the result split\n",
    "        for ndx, ndxs in enumerate(splits):\n",
    "            res[ndx].extend(ndxs)\n",
    "\n",
    "    return res\n"
   ]
  },
  {
   "cell_type": "code",
   "execution_count": 14,
   "metadata": {
    "_uuid": "b7d041668dbc8033901fb0b1edd55b948cd917dc",
    "colab": {},
    "colab_type": "code",
    "id": "B4TKHrC1Fsu7"
   },
   "outputs": [],
   "source": [
    "train, test, dev = split_atis(atis_clean, [0.8, 0.1, 0.1], random_state=7411)\n",
    "train, test, dev = map(lambda ndxs: np.array(atis_clean, dtype=object)[ndxs].tolist(),\n",
    "                       [train, test, dev])\n"
   ]
  },
  {
   "cell_type": "code",
   "execution_count": 9,
   "metadata": {
    "_uuid": "5ee9b28afb37cd8f05c050faafe4d94c3a6db4a4",
    "colab": {
     "base_uri": "https://localhost:8080/",
     "height": 274
    },
    "colab_type": "code",
    "id": "ZAUrXcveG5ki",
    "outputId": "27cebf6c-6f91-438b-e454-f681988a4c98"
   },
   "outputs": [
    {
     "name": "stdout",
     "output_type": "stream",
     "text": [
      "   sample count:  5432 splitted into:\n",
      "          train:  4274 (0.787)\n",
      "            dev:   572 (0.105)\n",
      "           test:   586 (0.108)\n",
      "duplicate count:     0\n",
      "   intent count: 17\n",
      "     slot count: 101\n",
      "    token count: 945\n",
      "missing data for slot/intent labels:\n",
      "  no train data for  0 intents: {}\n",
      "  no train data for  0   slots: {}\n",
      "  no   dev data for  0 intents: {}\n",
      "  no   dev data for  0   slots: {}\n",
      "  no  test data for  0 intents: {}\n",
      "  no  test data for  0   slots: {}\n"
     ]
    }
   ],
   "source": [
    "check_atis_split(train,dev,test)"
   ]
  },
  {
   "cell_type": "markdown",
   "metadata": {
    "_uuid": "60cdfad36f57d6efaf0f0e810f41d54bf742784b"
   },
   "source": [
    "This already looks better (and we haven't loosed too many data samples) - now let's visualize:"
   ]
  },
  {
   "cell_type": "code",
   "execution_count": 10,
   "metadata": {
    "_uuid": "e2954354d02f1942001750e08b748947015cf91b",
    "colab": {
     "base_uri": "https://localhost:8080/",
     "height": 543
    },
    "colab_type": "code",
    "id": "IaWR1j2gKcbz",
    "outputId": "f64b7182-c91c-4b8b-bdce-36076eb7a16e"
   },
   "outputs": [
    {
     "data": {
      "image/png": "[encoded data removed]",
      "text/plain": [
       "<Figure size 1296x288 with 1 Axes>"
      ]
     },
     "metadata": {
      "needs_background": "light"
     },
     "output_type": "display_data"
    },
    {
     "data": {
      "image/png": "[encoded data removed]",
      "text/plain": [
       "<Figure size 1296x288 with 1 Axes>"
      ]
     },
     "metadata": {
      "needs_background": "light"
     },
     "output_type": "display_data"
    }
   ],
   "source": [
    "visualize_atis_split(train,dev,test)"
   ]
  },
  {
   "cell_type": "markdown",
   "metadata": {
    "_uuid": "e4353ecb41f0d712d07730f290807ffb9db0f80a",
    "colab_type": "text",
    "id": "fPSoH8WsSp5I"
   },
   "source": [
    "## Dump the ATIS data split\n",
    "\n",
    "Now lets dump the ATIS datasets in a CSV format."
   ]
  },
  {
   "cell_type": "code",
   "execution_count": 11,
   "metadata": {
    "_uuid": "fb1b10c5ae0f8cb87ac204fcfc1591940f6468ee",
    "colab": {
     "base_uri": "https://localhost:8080/",
     "height": 68
    },
    "colab_type": "code",
    "id": "3C4deOEH3_xi",
    "outputId": "234813ee-5b5e-4141-ecb7-b158f5a8ec84"
   },
   "outputs": [
    {
     "name": "stdout",
     "output_type": "stream",
     "text": [
      "Done writting train to atis.train.csv\n",
      "Done writting dev to atis.dev.csv\n",
      "Done writting test to atis.test.csv\n"
     ]
    }
   ],
   "source": [
    "# lets dump the split in a CSV file per dataset\n",
    "def store_atis_csv(ds, dsname):\n",
    "    fname = \"atis.{}.csv\".format(dsname)\n",
    "    with open(fname, 'wt', encoding='UTF-8') as f:\n",
    "        f.write(\"id,tokens,slots,intent\\n\") # csv header\n",
    "        for ndx, (toks, slots, intent) in enumerate(ds, 1):\n",
    "            uid = \"{}-{:05d}\".format(dsname, ndx)\n",
    "            line = \"{},{},{},{}\\n\".format(uid, \n",
    "                                         \" \".join(toks), \n",
    "                                         \" \".join(slots),\n",
    "                                         intent)\n",
    "            f.write(line)\n",
    "    print(\"Done writting {} to {}\".format(dsname,fname))\n",
    "    \n",
    "store_atis_csv(train, \"train\")\n",
    "store_atis_csv(dev,   \"dev\")\n",
    "store_atis_csv(test,  \"test\")"
   ]
  },
  {
   "cell_type": "code",
   "execution_count": 12,
   "metadata": {
    "_uuid": "880498d6dd5a5379b7319369e2397232b6c42b05",
    "colab": {},
    "colab_type": "code",
    "id": "hsuJjzlYTQNW"
   },
   "outputs": [
    {
     "data": {
      "text/html": [
       "<div>\n",
       "<style scoped>\n",
       "    .dataframe tbody tr th:only-of-type {\n",
       "        vertical-align: middle;\n",
       "    }\n",
       "\n",
       "    .dataframe tbody tr th {\n",
       "        vertical-align: top;\n",
       "    }\n",
       "\n",
       "    .dataframe thead th {\n",
       "        text-align: right;\n",
       "    }\n",
       "</style>\n",
       "<table border=\"1\" class=\"dataframe\">\n",
       "  <thead>\n",
       "    <tr style=\"text-align: right;\">\n",
       "      <th></th>\n",
       "      <th>id</th>\n",
       "      <th>tokens</th>\n",
       "      <th>slots</th>\n",
       "      <th>intent</th>\n",
       "    </tr>\n",
       "  </thead>\n",
       "  <tbody>\n",
       "    <tr>\n",
       "      <th>0</th>\n",
       "      <td>train-00001</td>\n",
       "      <td>BOS what is the cost of a round trip flight fr...</td>\n",
       "      <td>O O O O O O O B-round_trip I-round_trip O O B-...</td>\n",
       "      <td>atis_airfare</td>\n",
       "    </tr>\n",
       "    <tr>\n",
       "      <th>1</th>\n",
       "      <td>train-00002</td>\n",
       "      <td>BOS now i need a flight leaving fort worth and...</td>\n",
       "      <td>O O O O O O O B-fromloc.city_name I-fromloc.ci...</td>\n",
       "      <td>atis_flight</td>\n",
       "    </tr>\n",
       "    <tr>\n",
       "      <th>2</th>\n",
       "      <td>train-00003</td>\n",
       "      <td>BOS i need to fly from kansas city to chicago ...</td>\n",
       "      <td>O O O O O O B-fromloc.city_name I-fromloc.city...</td>\n",
       "      <td>atis_flight</td>\n",
       "    </tr>\n",
       "    <tr>\n",
       "      <th>3</th>\n",
       "      <td>train-00004</td>\n",
       "      <td>BOS what is the meaning of meal code s EOS</td>\n",
       "      <td>O O O O O O B-meal_code I-meal_code I-meal_code O</td>\n",
       "      <td>atis_abbreviation</td>\n",
       "    </tr>\n",
       "    <tr>\n",
       "      <th>4</th>\n",
       "      <td>train-00005</td>\n",
       "      <td>BOS show me all flights from denver to pittsbu...</td>\n",
       "      <td>O O O O O O B-fromloc.city_name O B-toloc.city...</td>\n",
       "      <td>atis_flight</td>\n",
       "    </tr>\n",
       "  </tbody>\n",
       "</table>\n",
       "</div>"
      ],
      "text/plain": [
       "            id                                             tokens  \\\n",
       "0  train-00001  BOS what is the cost of a round trip flight fr...   \n",
       "1  train-00002  BOS now i need a flight leaving fort worth and...   \n",
       "2  train-00003  BOS i need to fly from kansas city to chicago ...   \n",
       "3  train-00004         BOS what is the meaning of meal code s EOS   \n",
       "4  train-00005  BOS show me all flights from denver to pittsbu...   \n",
       "\n",
       "                                               slots             intent  \n",
       "0  O O O O O O O B-round_trip I-round_trip O O B-...       atis_airfare  \n",
       "1  O O O O O O O B-fromloc.city_name I-fromloc.ci...        atis_flight  \n",
       "2  O O O O O O B-fromloc.city_name I-fromloc.city...        atis_flight  \n",
       "3  O O O O O O B-meal_code I-meal_code I-meal_code O  atis_abbreviation  \n",
       "4  O O O O O O B-fromloc.city_name O B-toloc.city...        atis_flight  "
      ]
     },
     "execution_count": 12,
     "metadata": {},
     "output_type": "execute_result"
    }
   ],
   "source": [
    "pd.read_csv('atis.train.csv').head()"
   ]
  },
  {
   "cell_type": "code",
   "execution_count": null,
   "metadata": {
    "_uuid": "254a14748bd9fe180e450cce2626368fceb6fb21",
    "colab": {},
    "colab_type": "code",
    "id": "OfIQpGqd33GK"
   },
   "outputs": [],
   "source": []
  }
 ],
 "metadata": {
  "colab": {
   "include_colab_link": true,
   "name": "atis-resplit.ipynb",
   "provenance": [],
   "toc_visible": true,
   "version": "0.3.2"
  },
  "kernelspec": {
   "display_name": "Python 3.10.2 64-bit",
   "language": "python",
   "name": "python3"
  },
  "language_info": {
   "codemirror_mode": {
    "name": "ipython",
    "version": 3
   },
   "file_extension": ".py",
   "mimetype": "text/x-python",
   "name": "python",
   "nbconvert_exporter": "python",
   "pygments_lexer": "ipython3",
   "version": "3.10.2"
  },
  "vscode": {
   "interpreter": {
    "hash": "b1608aa268624f49abdba28d68a12868829a289300b8f153f56ec99c9581bdb9"
   }
  }
 },
 "nbformat": 4,
 "nbformat_minor": 1
}
